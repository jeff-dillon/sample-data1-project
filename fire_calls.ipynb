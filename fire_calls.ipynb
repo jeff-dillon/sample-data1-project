{
 "cells": [
  {
   "cell_type": "markdown",
   "metadata": {},
   "source": [
    "# Louisville Kentucky Fire Calls\n",
    "\n",
    "Example project for Code Louisville Data Analysis 1 class.\n",
    "\n",
    "## Summary\n",
    "\n",
    "This project uses data from \n",
    "[Louisville Metro Open Data](https://data.louisvilleky.gov/) to chart the \n",
    "number of service calls by fire districts in the Louisville Metro area.\n",
    "\n",
    "**Hypothesis:** There are fewer emergency calls in the morning (4am - 8am) than there are \n",
    "in the evening (4pm - 8pm).\n"
   ]
  },
  {
   "cell_type": "markdown",
   "metadata": {},
   "source": [
    "## Data Discovery\n",
    "\n",
    "Data Source: [Louisville/Jefferson County Fire Districts calls for \n",
    "service.](https://www.arcgis.com/sharing/rest/content/items/a7e8d1790a254d96998ca03e8406afa9/data)\n",
    "\n",
    "Discovery Steps:\n",
    "1. Load the service call data into a List of Dict objects\n",
    "1. Print the number of records and the names of the columns\n",
    "1. Print the values in the HOUR OF field"
   ]
  },
  {
   "cell_type": "code",
   "execution_count": 1,
   "metadata": {},
   "outputs": [],
   "source": [
    "import csv\n",
    "\n",
    "fire_data = []\n",
    "with open('data/Fire_Open_Data.csv') as input_file:\n",
    "    reader = csv.DictReader(input_file)\n",
    "    for row in reader:\n",
    "        fire_data.append(row)\n"
   ]
  },
  {
   "cell_type": "markdown",
   "metadata": {},
   "source": [
    "Number of records:"
   ]
  },
  {
   "cell_type": "code",
   "execution_count": 2,
   "metadata": {},
   "outputs": [
    {
     "name": "stdout",
     "output_type": "stream",
     "text": [
      "162,064\n"
     ]
    }
   ],
   "source": [
    "print(\"{:,}\".format(len(fire_data)))"
   ]
  },
  {
   "cell_type": "markdown",
   "metadata": {},
   "source": [
    "Columns:"
   ]
  },
  {
   "cell_type": "code",
   "execution_count": 3,
   "metadata": {},
   "outputs": [
    {
     "name": "stdout",
     "output_type": "stream",
     "text": [
      "AGENCY_NAME\n",
      "DATE\n",
      "CREATE\n",
      "DISPATCH\n",
      "ENROUTE\n",
      "ARRIVE\n",
      "CLEAR\n",
      "HOUR OF\n",
      "LOCATION\n",
      "EVENT TYPE\n",
      "PRIORITY\n",
      "FD EVENT NUMBER\n",
      "ZIP_CODE\n"
     ]
    }
   ],
   "source": [
    "for key in fire_data[0].keys():\n",
    "    print(key)"
   ]
  },
  {
   "cell_type": "markdown",
   "metadata": {},
   "source": [
    "Values in `HOUR OF` field:"
   ]
  },
  {
   "cell_type": "code",
   "execution_count": 4,
   "metadata": {},
   "outputs": [
    {
     "name": "stdout",
     "output_type": "stream",
     "text": [
      "0000\n",
      "0100\n",
      "0200\n",
      "0300\n",
      "0400\n",
      "0500\n",
      "0600\n",
      "0700\n",
      "0800\n",
      "0900\n",
      "1000\n",
      "1100\n",
      "1200\n",
      "1300\n",
      "1400\n",
      "1500\n",
      "1600\n",
      "1700\n",
      "1800\n",
      "1900\n",
      "2000\n",
      "2100\n",
      "2200\n",
      "2300\n"
     ]
    }
   ],
   "source": [
    "hours = []\n",
    "for record in fire_data:\n",
    "    hour = record['HOUR OF']\n",
    "    if hour not in hours:\n",
    "        hours.append(hour)\n",
    "\n",
    "for item in hours:\n",
    "    print(item)"
   ]
  },
  {
   "cell_type": "markdown",
   "metadata": {},
   "source": [
    "## Data Cleaning\n",
    "\n",
    "Cleaning Steps:\n",
    "1. Define the times of day (Morning, Day, Evening, Night)\n",
    "1. Create a new time of day column based on the HOUR OF field\n",
    "\n",
    "Define times of day:"
   ]
  },
  {
   "cell_type": "code",
   "execution_count": 5,
   "metadata": {},
   "outputs": [],
   "source": [
    "morning = ('0500','0600','0700','0800')\n",
    "day = ('0900','1000','1100','1200','1300','1400','1500','1600','1700','1800')\n",
    "evening = ('1900','2000','2100','2200')\n",
    "night = ('2300','0000','0100','0200','0300','0400')"
   ]
  },
  {
   "cell_type": "markdown",
   "metadata": {},
   "source": [
    "Create calculated time of day column:"
   ]
  },
  {
   "cell_type": "code",
   "execution_count": 6,
   "metadata": {},
   "outputs": [],
   "source": [
    "for record in fire_data:\n",
    "    hour_of = record['HOUR OF']\n",
    "    if hour_of in morning:\n",
    "        record['TIME_OF_DAY'] = 'morning'\n",
    "    elif hour_of in day:\n",
    "        record['TIME_OF_DAY'] = 'day'\n",
    "    elif hour_of in evening:\n",
    "        record['TIME_OF_DAY'] = 'evening'\n",
    "    elif hour_of in night:\n",
    "        record['TIME_OF_DAY'] = 'night'\n",
    "    else:\n",
    "        record['TIME_OF_DAY'] = 'other'\n"
   ]
  },
  {
   "cell_type": "markdown",
   "metadata": {},
   "source": [
    "Values in `TIME_OF_DAY` field:"
   ]
  },
  {
   "cell_type": "code",
   "execution_count": 7,
   "metadata": {},
   "outputs": [
    {
     "name": "stdout",
     "output_type": "stream",
     "text": [
      "night\n",
      "morning\n",
      "day\n",
      "evening\n"
     ]
    }
   ],
   "source": [
    "times = []\n",
    "for record in fire_data:\n",
    "    time_of_day = record['TIME_OF_DAY']\n",
    "    if time_of_day not in times:\n",
    "        times.append(time_of_day)\n",
    "\n",
    "for item in times:\n",
    "    print(item)"
   ]
  },
  {
   "cell_type": "markdown",
   "metadata": {},
   "source": [
    "## Data Analysis\n",
    "\n",
    "Which time of day has the most fire service calls?"
   ]
  },
  {
   "cell_type": "code",
   "execution_count": 11,
   "metadata": {},
   "outputs": [
    {
     "data": {
      "image/png": "[encoded data removed]",
      "text/plain": [
       "<Figure size 640x480 with 1 Axes>"
      ]
     },
     "metadata": {},
     "output_type": "display_data"
    }
   ],
   "source": [
    "import matplotlib.pyplot as plt\n",
    "\n",
    "calls_by_time_of_day = {}\n",
    "for record in fire_data:\n",
    "    if record['TIME_OF_DAY'] not in calls_by_time_of_day:\n",
    "        calls_by_time_of_day[record['TIME_OF_DAY']] = 1\n",
    "    else:\n",
    "        calls_by_time_of_day[record['TIME_OF_DAY']] += 1\n",
    "\n",
    "# Pie chart, where the slices will be ordered and plotted counter-clockwise:\n",
    "labels = 'morning', 'day', 'evening', 'night'\n",
    "sizes = [calls_by_time_of_day['morning'], \n",
    "        calls_by_time_of_day['day'], \n",
    "        calls_by_time_of_day['evening'], \n",
    "        calls_by_time_of_day['night']]\n",
    "explode = (0, 0, 0.2, 0)  # only \"explode\" the 3rd slice (i.e. 'evening')\n",
    "\n",
    "fig1, ax1 = plt.subplots()\n",
    "ax1.pie(sizes, explode=explode, labels=labels, autopct='%1.1f%%',\n",
    "        shadow=True, startangle=90)\n",
    "ax1.axis('equal')  # Equal aspect ratio ensures that pie is drawn as a circle.\n",
    "\n",
    "plt.show()"
   ]
  },
  {
   "cell_type": "markdown",
   "metadata": {},
   "source": [
    "## Conclusion\n",
    "\n",
    "There are more fire services calls at night (19%) than there are in the morning (11.4%). Further analysis could be done by looking at day of week, type of call (fire, medical, etc.) or zip code."
   ]
  }
 ],
 "metadata": {
  "interpreter": {
   "hash": "ea5237ce8e331d35fcdd84e236be8fcef6f3b38984ef051d4b03ce89bde8835b"
  },
  "kernelspec": {
   "display_name": "Python 3.9.2 ('venv': venv)",
   "language": "python",
   "name": "python3"
  },
  "language_info": {
   "codemirror_mode": {
    "name": "ipython",
    "version": 3
   },
   "file_extension": ".py",
   "mimetype": "text/x-python",
   "name": "python",
   "nbconvert_exporter": "python",
   "pygments_lexer": "ipython3",
   "version": "3.9.2"
  },
  "orig_nbformat": 4
 },
 "nbformat": 4,
 "nbformat_minor": 2
}
