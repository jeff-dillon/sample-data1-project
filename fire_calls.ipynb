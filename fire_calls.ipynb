{
 "cells": [
  {
   "cell_type": "markdown",
   "metadata": {},
   "source": [
    "# Louisville Kentucky Fire Calls\n",
    "\n",
    "Example project for Code Louisville Data Analysis 1 class.\n",
    "\n",
    "## Summary\n",
    "\n",
    "This project uses data from \n",
    "[Louisville Metro Open Data](https://data.louisvilleky.gov/) to chart the \n",
    "number of service calls by fire districts in the Louisville Metro area.\n",
    "\n",
    "**Hypothesis:** There are fewer emergency calls at dawn (4am - 8am) than there are \n",
    "at dusk (4pm - 8pm).\n"
   ]
  },
  {
   "cell_type": "markdown",
   "metadata": {},
   "source": [
    "## Data Discovery\n",
    "\n",
    "Data Source: [Louisville/Jefferson County Fire Districts calls for \n",
    "service.](https://www.arcgis.com/sharing/rest/content/items/a7e8d1790a254d96998ca03e8406afa9/data)"
   ]
  },
  {
   "cell_type": "markdown",
   "metadata": {},
   "source": [
    "## Data Cleaning"
   ]
  },
  {
   "cell_type": "markdown",
   "metadata": {},
   "source": [
    "## Data Analysis"
   ]
  },
  {
   "cell_type": "markdown",
   "metadata": {},
   "source": [
    "## Conclusion"
   ]
  }
 ],
 "metadata": {
  "language_info": {
   "name": "python"
  },
  "orig_nbformat": 4
 },
 "nbformat": 4,
 "nbformat_minor": 2
}
